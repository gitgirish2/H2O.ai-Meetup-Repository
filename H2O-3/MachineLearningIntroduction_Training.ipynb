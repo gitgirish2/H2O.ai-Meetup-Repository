{
 "cells": [
  {
   "cell_type": "markdown",
   "metadata": {},
   "source": [
    "# Predicting Loan Default with Machine Learning\n",
    "\n",
    "The goal of this notebook is to predict whether or not a loan will default based on information known at the time of loan origination.\n",
    "\n",
    "## Workflow\n",
    "\n",
    "1. Start the H2O-3 cluster\n",
    "2. Import data\n",
    "3. Explore the data\n",
    "4. Train a GBM Model\n",
    "5. Examine the GBM Model\n",
    "6. Productionize\n",
    "7. SHutting of the cluster"
   ]
  },
  {
   "cell_type": "markdown",
   "metadata": {},
   "source": [
    "# Step 1 (of 6). Start the H2O-3 cluster"
   ]
  },
  {
   "cell_type": "markdown",
   "metadata": {},
   "source": [
    "<img src=\"./images/import H2O.png\" style=\"width:600px\">\n"
   ]
  },
  {
   "cell_type": "code",
   "execution_count": 67,
   "metadata": {},
   "outputs": [
    {
     "name": "stdout",
     "output_type": "stream",
     "text": [
      "Checking whether there is an H2O instance running at http://localhost:54321 ..... not found.\n",
      "Attempting to start a local H2O server...\n",
      "  Java Version: java version \"11.0.4\" 2019-07-16 LTS; Java(TM) SE Runtime Environment 18.9 (build 11.0.4+10-LTS); Java HotSpot(TM) 64-Bit Server VM 18.9 (build 11.0.4+10-LTS, mixed mode)\n",
      "  Starting server from /anaconda3/lib/python3.7/site-packages/h2o/backend/bin/h2o.jar\n",
      "  Ice root: /var/folders/bh/3d086kf929d89hcjfslrb__c0000gn/T/tmp6amdafye\n",
      "  JVM stdout: /var/folders/bh/3d086kf929d89hcjfslrb__c0000gn/T/tmp6amdafye/h2o_parulpandey_started_from_python.out\n",
      "  JVM stderr: /var/folders/bh/3d086kf929d89hcjfslrb__c0000gn/T/tmp6amdafye/h2o_parulpandey_started_from_python.err\n",
      "  Server is running at http://127.0.0.1:54321\n",
      "Connecting to H2O server at http://127.0.0.1:54321 ... successful.\n"
     ]
    },
    {
     "data": {
      "text/html": [
       "<div style=\"overflow:auto\"><table style=\"width:50%\"><tr><td>H2O cluster uptime:</td>\n",
       "<td>01 secs</td></tr>\n",
       "<tr><td>H2O cluster timezone:</td>\n",
       "<td>Asia/Kolkata</td></tr>\n",
       "<tr><td>H2O data parsing timezone:</td>\n",
       "<td>UTC</td></tr>\n",
       "<tr><td>H2O cluster version:</td>\n",
       "<td>3.26.0.6</td></tr>\n",
       "<tr><td>H2O cluster version age:</td>\n",
       "<td>1 month and 18 days </td></tr>\n",
       "<tr><td>H2O cluster name:</td>\n",
       "<td>H2O_from_python_parulpandey_rs3n6v</td></tr>\n",
       "<tr><td>H2O cluster total nodes:</td>\n",
       "<td>1</td></tr>\n",
       "<tr><td>H2O cluster free memory:</td>\n",
       "<td>4 Gb</td></tr>\n",
       "<tr><td>H2O cluster total cores:</td>\n",
       "<td>16</td></tr>\n",
       "<tr><td>H2O cluster allowed cores:</td>\n",
       "<td>16</td></tr>\n",
       "<tr><td>H2O cluster status:</td>\n",
       "<td>accepting new members, healthy</td></tr>\n",
       "<tr><td>H2O connection url:</td>\n",
       "<td>http://127.0.0.1:54321</td></tr>\n",
       "<tr><td>H2O connection proxy:</td>\n",
       "<td>None</td></tr>\n",
       "<tr><td>H2O internal security:</td>\n",
       "<td>False</td></tr>\n",
       "<tr><td>H2O API Extensions:</td>\n",
       "<td>Amazon S3, XGBoost, Algos, AutoML, Core V3, TargetEncoder, Core V4</td></tr>\n",
       "<tr><td>Python version:</td>\n",
       "<td>3.7.3 final</td></tr></table></div>"
      ],
      "text/plain": [
       "--------------------------  ------------------------------------------------------------------\n",
       "H2O cluster uptime:         01 secs\n",
       "H2O cluster timezone:       Asia/Kolkata\n",
       "H2O data parsing timezone:  UTC\n",
       "H2O cluster version:        3.26.0.6\n",
       "H2O cluster version age:    1 month and 18 days\n",
       "H2O cluster name:           H2O_from_python_parulpandey_rs3n6v\n",
       "H2O cluster total nodes:    1\n",
       "H2O cluster free memory:    4 Gb\n",
       "H2O cluster total cores:    16\n",
       "H2O cluster allowed cores:  16\n",
       "H2O cluster status:         accepting new members, healthy\n",
       "H2O connection url:         http://127.0.0.1:54321\n",
       "H2O connection proxy:\n",
       "H2O internal security:      False\n",
       "H2O API Extensions:         Amazon S3, XGBoost, Algos, AutoML, Core V3, TargetEncoder, Core V4\n",
       "Python version:             3.7.3 final\n",
       "--------------------------  ------------------------------------------------------------------"
      ]
     },
     "metadata": {},
     "output_type": "display_data"
    }
   ],
   "source": [
    "import h2o \n",
    "#h2o.init(max_mem_size = \"4g\")"
   ]
  },
  {
   "cell_type": "markdown",
   "metadata": {},
   "source": [
    "We use the `h2o.init` command to connect to the H2O-3 cluster, starting it if it is not already up. The parameters used in `h2o.init` will depend on your specific environment.\n",
    "\n",
    "Set the correct cluster size for your given dataset size. The rule of thumb is to use at least 4 times the size of your data. For example, if the dataset is 10GB, you should allocate at least 40GB of memory."
   ]
  },
  {
   "cell_type": "markdown",
   "metadata": {},
   "source": [
    "# Step 2 (of 6). Import Data\n",
    "\n",
    "This exploration of H2O will use a version of the Lending Club Loan Data that can be found on [Kaggle](https://www.kaggle.com/wendykan/lending-club-loan-data). This data consists of 15 variables:\n",
    "\n",
    "|  Id   | Column Name | Description |\n",
    "| --- | ----------- | ----------- |\n",
    "|   1 | loan_amnt   | Requested loan amount (US dollars) |\n",
    "|   2 | term        | Loan term length (months) |\n",
    "|   3 | int_rate    | Recommended interest rate |\n",
    "|   4 | emp_length  | Employment length (years) |\n",
    "|   5 | home_ownership| Housing status |\n",
    "|   6 | annual_inc  | Annual income (US dollars) |\n",
    "|   7 | purpose     | Purpose for the loan |\n",
    "|   8 | addr_state  | State of residence |\n",
    "|   9 | dti         | Debt to income ratio |\n",
    "|  10 | delinq_2yrs | Number of delinquencies in the past 2 years |\n",
    "|  11 | revol_util  | Percent of revolving credit line utilized |\n",
    "|  12 | total_acc   | Number of active accounts |\n",
    "|  13 | bad_loan    | Bad loan indicator |\n",
    "|  14 | longest_credit_length | Age of oldest active account |\n",
    "|  15 | verification_status | Income verification status |"
   ]
  },
  {
   "cell_type": "code",
   "execution_count": 42,
   "metadata": {},
   "outputs": [
    {
     "name": "stdout",
     "output_type": "stream",
     "text": [
      "Parse progress: |█████████████████████████████████████████████████████████| 100%\n"
     ]
    }
   ],
   "source": [
    "input_csv = \"loan.csv\"\n",
    "loans = h2o.import_file(input_csv)"
   ]
  },
  {
   "cell_type": "markdown",
   "metadata": {},
   "source": [
    "<div class=\"alert alert-block alert-info\"><span style=\"color:black\">\n",
    "Besides delimited files (CSV and gzipped CSV), H2O-3 currently supports the following file types:\n",
    "\n",
    "- ORC\n",
    "- SVMLight\n",
    "- ARFF\n",
    "- XLS (BIFF 8 only)\n",
    "- XLSX (BIFF 8 only)\n",
    "- Avro version 1.8.0 (without multifile parsing or column type modification)\n",
    "- Parquet\n",
    "</span></div>\n",
    "\n",
    "### H2O Frame\n",
    "\n",
    "- Distributed data frames (collection of vectors)\n",
    "- Columns are distributed (across nodes) arrays\n",
    "- H2O Frames work just like R `data.frame` or Python Pandas `DataFrame`\n"
   ]
  },
  {
   "cell_type": "code",
   "execution_count": 8,
   "metadata": {},
   "outputs": [
    {
     "data": {
      "text/html": [
       "<table>\n",
       "<thead>\n",
       "<tr><th style=\"text-align: right;\">  loan_amnt</th><th>term     </th><th style=\"text-align: right;\">  int_rate</th><th style=\"text-align: right;\">  emp_length</th><th>home_ownership  </th><th style=\"text-align: right;\">  annual_inc</th><th>purpose           </th><th>addr_state  </th><th style=\"text-align: right;\">  dti</th><th style=\"text-align: right;\">  delinq_2yrs</th><th style=\"text-align: right;\">  revol_util</th><th style=\"text-align: right;\">  total_acc</th><th style=\"text-align: right;\">  bad_loan</th><th style=\"text-align: right;\">  longest_credit_length</th><th>verification_status  </th></tr>\n",
       "</thead>\n",
       "<tbody>\n",
       "<tr><td style=\"text-align: right;\">       5000</td><td>36 months</td><td style=\"text-align: right;\">     10.65</td><td style=\"text-align: right;\">          10</td><td>RENT            </td><td style=\"text-align: right;\">       24000</td><td>credit_card       </td><td>AZ          </td><td style=\"text-align: right;\">27.65</td><td style=\"text-align: right;\">            0</td><td style=\"text-align: right;\">        83.7</td><td style=\"text-align: right;\">          9</td><td style=\"text-align: right;\">         0</td><td style=\"text-align: right;\">                     26</td><td>verified             </td></tr>\n",
       "<tr><td style=\"text-align: right;\">       2500</td><td>60 months</td><td style=\"text-align: right;\">     15.27</td><td style=\"text-align: right;\">           0</td><td>RENT            </td><td style=\"text-align: right;\">       30000</td><td>car               </td><td>GA          </td><td style=\"text-align: right;\"> 1   </td><td style=\"text-align: right;\">            0</td><td style=\"text-align: right;\">         9.4</td><td style=\"text-align: right;\">          4</td><td style=\"text-align: right;\">         1</td><td style=\"text-align: right;\">                     12</td><td>verified             </td></tr>\n",
       "<tr><td style=\"text-align: right;\">       2400</td><td>36 months</td><td style=\"text-align: right;\">     15.96</td><td style=\"text-align: right;\">          10</td><td>RENT            </td><td style=\"text-align: right;\">       12252</td><td>small_business    </td><td>IL          </td><td style=\"text-align: right;\"> 8.72</td><td style=\"text-align: right;\">            0</td><td style=\"text-align: right;\">        98.5</td><td style=\"text-align: right;\">         10</td><td style=\"text-align: right;\">         0</td><td style=\"text-align: right;\">                     10</td><td>not verified         </td></tr>\n",
       "<tr><td style=\"text-align: right;\">      10000</td><td>36 months</td><td style=\"text-align: right;\">     13.49</td><td style=\"text-align: right;\">          10</td><td>RENT            </td><td style=\"text-align: right;\">       49200</td><td>other             </td><td>CA          </td><td style=\"text-align: right;\">20   </td><td style=\"text-align: right;\">            0</td><td style=\"text-align: right;\">        21  </td><td style=\"text-align: right;\">         37</td><td style=\"text-align: right;\">         0</td><td style=\"text-align: right;\">                     15</td><td>verified             </td></tr>\n",
       "<tr><td style=\"text-align: right;\">       5000</td><td>36 months</td><td style=\"text-align: right;\">      7.9 </td><td style=\"text-align: right;\">           3</td><td>RENT            </td><td style=\"text-align: right;\">       36000</td><td>wedding           </td><td>AZ          </td><td style=\"text-align: right;\">11.2 </td><td style=\"text-align: right;\">            0</td><td style=\"text-align: right;\">        28.3</td><td style=\"text-align: right;\">         12</td><td style=\"text-align: right;\">         0</td><td style=\"text-align: right;\">                      7</td><td>verified             </td></tr>\n",
       "<tr><td style=\"text-align: right;\">       3000</td><td>36 months</td><td style=\"text-align: right;\">     18.64</td><td style=\"text-align: right;\">           9</td><td>RENT            </td><td style=\"text-align: right;\">       48000</td><td>car               </td><td>CA          </td><td style=\"text-align: right;\"> 5.35</td><td style=\"text-align: right;\">            0</td><td style=\"text-align: right;\">        87.5</td><td style=\"text-align: right;\">          4</td><td style=\"text-align: right;\">         0</td><td style=\"text-align: right;\">                      4</td><td>verified             </td></tr>\n",
       "<tr><td style=\"text-align: right;\">       5600</td><td>60 months</td><td style=\"text-align: right;\">     21.28</td><td style=\"text-align: right;\">           4</td><td>OWN             </td><td style=\"text-align: right;\">       40000</td><td>small_business    </td><td>CA          </td><td style=\"text-align: right;\"> 5.55</td><td style=\"text-align: right;\">            0</td><td style=\"text-align: right;\">        32.6</td><td style=\"text-align: right;\">         13</td><td style=\"text-align: right;\">         1</td><td style=\"text-align: right;\">                      7</td><td>verified             </td></tr>\n",
       "<tr><td style=\"text-align: right;\">       5375</td><td>60 months</td><td style=\"text-align: right;\">     12.69</td><td style=\"text-align: right;\">           0</td><td>RENT            </td><td style=\"text-align: right;\">       15000</td><td>other             </td><td>TX          </td><td style=\"text-align: right;\">18.08</td><td style=\"text-align: right;\">            0</td><td style=\"text-align: right;\">        36.5</td><td style=\"text-align: right;\">          3</td><td style=\"text-align: right;\">         1</td><td style=\"text-align: right;\">                      7</td><td>verified             </td></tr>\n",
       "<tr><td style=\"text-align: right;\">       6500</td><td>60 months</td><td style=\"text-align: right;\">     14.65</td><td style=\"text-align: right;\">           5</td><td>OWN             </td><td style=\"text-align: right;\">       72000</td><td>debt_consolidation</td><td>AZ          </td><td style=\"text-align: right;\">16.12</td><td style=\"text-align: right;\">            0</td><td style=\"text-align: right;\">        20.6</td><td style=\"text-align: right;\">         23</td><td style=\"text-align: right;\">         0</td><td style=\"text-align: right;\">                     13</td><td>not verified         </td></tr>\n",
       "<tr><td style=\"text-align: right;\">      12000</td><td>36 months</td><td style=\"text-align: right;\">     12.69</td><td style=\"text-align: right;\">          10</td><td>OWN             </td><td style=\"text-align: right;\">       75000</td><td>debt_consolidation</td><td>CA          </td><td style=\"text-align: right;\">10.78</td><td style=\"text-align: right;\">            0</td><td style=\"text-align: right;\">        67.1</td><td style=\"text-align: right;\">         34</td><td style=\"text-align: right;\">         0</td><td style=\"text-align: right;\">                     22</td><td>verified             </td></tr>\n",
       "</tbody>\n",
       "</table>"
      ]
     },
     "metadata": {},
     "output_type": "display_data"
    },
    {
     "data": {
      "text/plain": []
     },
     "execution_count": 8,
     "metadata": {},
     "output_type": "execute_result"
    }
   ],
   "source": [
    "loans.head()"
   ]
  },
  {
   "cell_type": "code",
   "execution_count": 11,
   "metadata": {},
   "outputs": [
    {
     "name": "stdout",
     "output_type": "stream",
     "text": [
      "Rows:163987\n",
      "Cols:15\n",
      "\n",
      "\n"
     ]
    },
    {
     "data": {
      "text/html": [
       "<table>\n",
       "<thead>\n",
       "<tr><th>       </th><th>loan_amnt         </th><th>term     </th><th>int_rate          </th><th>emp_length       </th><th>home_ownership  </th><th>annual_inc       </th><th>purpose           </th><th>addr_state  </th><th>dti               </th><th>delinq_2yrs       </th><th>revol_util        </th><th>total_acc         </th><th>bad_loan          </th><th>longest_credit_length  </th><th>verification_status  </th></tr>\n",
       "</thead>\n",
       "<tbody>\n",
       "<tr><td>type   </td><td>int               </td><td>enum     </td><td>real              </td><td>int              </td><td>enum            </td><td>real             </td><td>enum              </td><td>enum        </td><td>real              </td><td>int               </td><td>real              </td><td>int               </td><td>int               </td><td>int                    </td><td>enum                 </td></tr>\n",
       "<tr><td>mins   </td><td>500.0             </td><td>         </td><td>5.42              </td><td>0.0              </td><td>                </td><td>1896.0           </td><td>                  </td><td>            </td><td>0.0               </td><td>0.0               </td><td>0.0               </td><td>1.0               </td><td>0.0               </td><td>0.0                    </td><td>                     </td></tr>\n",
       "<tr><td>mean   </td><td>13074.169141456337</td><td>         </td><td>13.715904065566173</td><td>5.684352932995329</td><td>                </td><td>71915.670519749  </td><td>                  </td><td>            </td><td>15.881530121290105</td><td>0.2273570060625282</td><td>54.07917280242256 </td><td>24.579733834274627</td><td>0.1830388994249544</td><td>14.854273655448347     </td><td>                     </td></tr>\n",
       "<tr><td>maxs   </td><td>35000.0           </td><td>         </td><td>26.06             </td><td>10.0             </td><td>                </td><td>7141778.0        </td><td>                  </td><td>            </td><td>39.99             </td><td>29.0              </td><td>150.70000000000002</td><td>118.0             </td><td>1.0               </td><td>65.0                   </td><td>                     </td></tr>\n",
       "<tr><td>sigma  </td><td>7993.55618873465  </td><td>         </td><td>4.3919398705457935</td><td>3.610663731100236</td><td>                </td><td>59070.91565491825</td><td>                  </td><td>            </td><td>7.587668224192548 </td><td>0.6941679229284182</td><td>25.285366766770505</td><td>11.685190365910659</td><td>0.3866995896078875</td><td>6.947732922546696      </td><td>                     </td></tr>\n",
       "<tr><td>zeros  </td><td>0                 </td><td>         </td><td>0                 </td><td>14248            </td><td>                </td><td>0                </td><td>                  </td><td>            </td><td>270               </td><td>139459            </td><td>1562              </td><td>0                 </td><td>133971            </td><td>11                     </td><td>                     </td></tr>\n",
       "<tr><td>missing</td><td>0                 </td><td>0        </td><td>0                 </td><td>5804             </td><td>0               </td><td>4                </td><td>0                 </td><td>0           </td><td>0                 </td><td>29                </td><td>193               </td><td>29                </td><td>0                 </td><td>29                     </td><td>0                    </td></tr>\n",
       "<tr><td>0      </td><td>5000.0            </td><td>36 months</td><td>10.65             </td><td>10.0             </td><td>RENT            </td><td>24000.0          </td><td>credit_card       </td><td>AZ          </td><td>27.65             </td><td>0.0               </td><td>83.7              </td><td>9.0               </td><td>0.0               </td><td>26.0                   </td><td>verified             </td></tr>\n",
       "<tr><td>1      </td><td>2500.0            </td><td>60 months</td><td>15.27             </td><td>0.0              </td><td>RENT            </td><td>30000.0          </td><td>car               </td><td>GA          </td><td>1.0               </td><td>0.0               </td><td>9.4               </td><td>4.0               </td><td>1.0               </td><td>12.0                   </td><td>verified             </td></tr>\n",
       "<tr><td>2      </td><td>2400.0            </td><td>36 months</td><td>15.96             </td><td>10.0             </td><td>RENT            </td><td>12252.0          </td><td>small_business    </td><td>IL          </td><td>8.72              </td><td>0.0               </td><td>98.5              </td><td>10.0              </td><td>0.0               </td><td>10.0                   </td><td>not verified         </td></tr>\n",
       "<tr><td>3      </td><td>10000.0           </td><td>36 months</td><td>13.49             </td><td>10.0             </td><td>RENT            </td><td>49200.0          </td><td>other             </td><td>CA          </td><td>20.0              </td><td>0.0               </td><td>21.0              </td><td>37.0              </td><td>0.0               </td><td>15.0                   </td><td>verified             </td></tr>\n",
       "<tr><td>4      </td><td>5000.0            </td><td>36 months</td><td>7.9               </td><td>3.0              </td><td>RENT            </td><td>36000.0          </td><td>wedding           </td><td>AZ          </td><td>11.2              </td><td>0.0               </td><td>28.3              </td><td>12.0              </td><td>0.0               </td><td>7.0                    </td><td>verified             </td></tr>\n",
       "<tr><td>5      </td><td>3000.0            </td><td>36 months</td><td>18.64             </td><td>9.0              </td><td>RENT            </td><td>48000.0          </td><td>car               </td><td>CA          </td><td>5.3500000000000005</td><td>0.0               </td><td>87.5              </td><td>4.0               </td><td>0.0               </td><td>4.0                    </td><td>verified             </td></tr>\n",
       "<tr><td>6      </td><td>5600.0            </td><td>60 months</td><td>21.28             </td><td>4.0              </td><td>OWN             </td><td>40000.0          </td><td>small_business    </td><td>CA          </td><td>5.55              </td><td>0.0               </td><td>32.6              </td><td>13.0              </td><td>1.0               </td><td>7.0                    </td><td>verified             </td></tr>\n",
       "<tr><td>7      </td><td>5375.0            </td><td>60 months</td><td>12.69             </td><td>0.0              </td><td>RENT            </td><td>15000.0          </td><td>other             </td><td>TX          </td><td>18.08             </td><td>0.0               </td><td>36.5              </td><td>3.0               </td><td>1.0               </td><td>7.0                    </td><td>verified             </td></tr>\n",
       "<tr><td>8      </td><td>6500.0            </td><td>60 months</td><td>14.65             </td><td>5.0              </td><td>OWN             </td><td>72000.0          </td><td>debt_consolidation</td><td>AZ          </td><td>16.12             </td><td>0.0               </td><td>20.6              </td><td>23.0              </td><td>0.0               </td><td>13.0                   </td><td>not verified         </td></tr>\n",
       "<tr><td>9      </td><td>12000.0           </td><td>36 months</td><td>12.69             </td><td>10.0             </td><td>OWN             </td><td>75000.0          </td><td>debt_consolidation</td><td>CA          </td><td>10.78             </td><td>0.0               </td><td>67.10000000000001 </td><td>34.0              </td><td>0.0               </td><td>22.0                   </td><td>verified             </td></tr>\n",
       "</tbody>\n",
       "</table>"
      ]
     },
     "metadata": {},
     "output_type": "display_data"
    }
   ],
   "source": [
    "loans.describe()"
   ]
  },
  {
   "cell_type": "markdown",
   "metadata": {},
   "source": [
    "We will change the `bad_loan` column from numeric to categorical.  Our goal is to predict whether a loan is bad or not so we want this column to be treated like yes/no rather than 0 or 1."
   ]
  },
  {
   "cell_type": "code",
   "execution_count": 47,
   "metadata": {},
   "outputs": [
    {
     "name": "stdout",
     "output_type": "stream",
     "text": [
      "Rows:163987\n",
      "Cols:15\n",
      "\n",
      "\n"
     ]
    },
    {
     "data": {
      "text/html": [
       "<table>\n",
       "<thead>\n",
       "<tr><th>       </th><th>loan_amnt         </th><th>term     </th><th>int_rate          </th><th>emp_length       </th><th>home_ownership  </th><th>annual_inc       </th><th>purpose           </th><th>addr_state  </th><th>dti               </th><th>delinq_2yrs       </th><th>revol_util        </th><th>total_acc         </th><th>bad_loan  </th><th>longest_credit_length  </th><th>verification_status  </th></tr>\n",
       "</thead>\n",
       "<tbody>\n",
       "<tr><td>type   </td><td>int               </td><td>enum     </td><td>real              </td><td>int              </td><td>enum            </td><td>real             </td><td>enum              </td><td>enum        </td><td>real              </td><td>int               </td><td>real              </td><td>int               </td><td>enum      </td><td>int                    </td><td>enum                 </td></tr>\n",
       "<tr><td>mins   </td><td>500.0             </td><td>         </td><td>5.42              </td><td>0.0              </td><td>                </td><td>1896.0           </td><td>                  </td><td>            </td><td>0.0               </td><td>0.0               </td><td>0.0               </td><td>1.0               </td><td>          </td><td>0.0                    </td><td>                     </td></tr>\n",
       "<tr><td>mean   </td><td>13074.169141456337</td><td>         </td><td>13.715904065566173</td><td>5.684352932995329</td><td>                </td><td>71915.670519749  </td><td>                  </td><td>            </td><td>15.881530121290105</td><td>0.2273570060625282</td><td>54.07917280242256 </td><td>24.579733834274627</td><td>          </td><td>14.854273655448347     </td><td>                     </td></tr>\n",
       "<tr><td>maxs   </td><td>35000.0           </td><td>         </td><td>26.06             </td><td>10.0             </td><td>                </td><td>7141778.0        </td><td>                  </td><td>            </td><td>39.99             </td><td>29.0              </td><td>150.70000000000002</td><td>118.0             </td><td>          </td><td>65.0                   </td><td>                     </td></tr>\n",
       "<tr><td>sigma  </td><td>7993.55618873465  </td><td>         </td><td>4.3919398705457935</td><td>3.610663731100236</td><td>                </td><td>59070.91565491825</td><td>                  </td><td>            </td><td>7.587668224192548 </td><td>0.6941679229284182</td><td>25.285366766770505</td><td>11.685190365910659</td><td>          </td><td>6.947732922546696      </td><td>                     </td></tr>\n",
       "<tr><td>zeros  </td><td>0                 </td><td>         </td><td>0                 </td><td>14248            </td><td>                </td><td>0                </td><td>                  </td><td>            </td><td>270               </td><td>139459            </td><td>1562              </td><td>0                 </td><td>          </td><td>11                     </td><td>                     </td></tr>\n",
       "<tr><td>missing</td><td>0                 </td><td>0        </td><td>0                 </td><td>5804             </td><td>0               </td><td>4                </td><td>0                 </td><td>0           </td><td>0                 </td><td>29                </td><td>193               </td><td>29                </td><td>0         </td><td>29                     </td><td>0                    </td></tr>\n",
       "<tr><td>0      </td><td>5000.0            </td><td>36 months</td><td>10.65             </td><td>10.0             </td><td>RENT            </td><td>24000.0          </td><td>credit_card       </td><td>AZ          </td><td>27.65             </td><td>0.0               </td><td>83.7              </td><td>9.0               </td><td>0         </td><td>26.0                   </td><td>verified             </td></tr>\n",
       "<tr><td>1      </td><td>2500.0            </td><td>60 months</td><td>15.27             </td><td>0.0              </td><td>RENT            </td><td>30000.0          </td><td>car               </td><td>GA          </td><td>1.0               </td><td>0.0               </td><td>9.4               </td><td>4.0               </td><td>1         </td><td>12.0                   </td><td>verified             </td></tr>\n",
       "<tr><td>2      </td><td>2400.0            </td><td>36 months</td><td>15.96             </td><td>10.0             </td><td>RENT            </td><td>12252.0          </td><td>small_business    </td><td>IL          </td><td>8.72              </td><td>0.0               </td><td>98.5              </td><td>10.0              </td><td>0         </td><td>10.0                   </td><td>not verified         </td></tr>\n",
       "<tr><td>3      </td><td>10000.0           </td><td>36 months</td><td>13.49             </td><td>10.0             </td><td>RENT            </td><td>49200.0          </td><td>other             </td><td>CA          </td><td>20.0              </td><td>0.0               </td><td>21.0              </td><td>37.0              </td><td>0         </td><td>15.0                   </td><td>verified             </td></tr>\n",
       "<tr><td>4      </td><td>5000.0            </td><td>36 months</td><td>7.9               </td><td>3.0              </td><td>RENT            </td><td>36000.0          </td><td>wedding           </td><td>AZ          </td><td>11.2              </td><td>0.0               </td><td>28.3              </td><td>12.0              </td><td>0         </td><td>7.0                    </td><td>verified             </td></tr>\n",
       "<tr><td>5      </td><td>3000.0            </td><td>36 months</td><td>18.64             </td><td>9.0              </td><td>RENT            </td><td>48000.0          </td><td>car               </td><td>CA          </td><td>5.3500000000000005</td><td>0.0               </td><td>87.5              </td><td>4.0               </td><td>0         </td><td>4.0                    </td><td>verified             </td></tr>\n",
       "<tr><td>6      </td><td>5600.0            </td><td>60 months</td><td>21.28             </td><td>4.0              </td><td>OWN             </td><td>40000.0          </td><td>small_business    </td><td>CA          </td><td>5.55              </td><td>0.0               </td><td>32.6              </td><td>13.0              </td><td>1         </td><td>7.0                    </td><td>verified             </td></tr>\n",
       "<tr><td>7      </td><td>5375.0            </td><td>60 months</td><td>12.69             </td><td>0.0              </td><td>RENT            </td><td>15000.0          </td><td>other             </td><td>TX          </td><td>18.08             </td><td>0.0               </td><td>36.5              </td><td>3.0               </td><td>1         </td><td>7.0                    </td><td>verified             </td></tr>\n",
       "<tr><td>8      </td><td>6500.0            </td><td>60 months</td><td>14.65             </td><td>5.0              </td><td>OWN             </td><td>72000.0          </td><td>debt_consolidation</td><td>AZ          </td><td>16.12             </td><td>0.0               </td><td>20.6              </td><td>23.0              </td><td>0         </td><td>13.0                   </td><td>not verified         </td></tr>\n",
       "<tr><td>9      </td><td>12000.0           </td><td>36 months</td><td>12.69             </td><td>10.0             </td><td>OWN             </td><td>75000.0          </td><td>debt_consolidation</td><td>CA          </td><td>10.78             </td><td>0.0               </td><td>67.10000000000001 </td><td>34.0              </td><td>0         </td><td>22.0                   </td><td>verified             </td></tr>\n",
       "</tbody>\n",
       "</table>"
      ]
     },
     "metadata": {},
     "output_type": "display_data"
    }
   ],
   "source": [
    "loans[\"bad_loan\"] = loans[\"bad_loan\"].asfactor()\n",
    "\n",
    "loans.describe()"
   ]
  },
  {
   "cell_type": "markdown",
   "metadata": {},
   "source": [
    "# Step 3 (of 6). Explore the Data\n",
    "\n",
    "\n",
    "Now that we have imported the data, we will examine the columns in the dataset."
   ]
  },
  {
   "cell_type": "code",
   "execution_count": 48,
   "metadata": {},
   "outputs": [
    {
     "data": {
      "text/html": [
       "<table>\n",
       "<thead>\n",
       "<tr><th style=\"text-align: right;\">  bad_loan</th><th style=\"text-align: right;\">  Count</th></tr>\n",
       "</thead>\n",
       "<tbody>\n",
       "<tr><td style=\"text-align: right;\">         0</td><td style=\"text-align: right;\"> 133971</td></tr>\n",
       "<tr><td style=\"text-align: right;\">         1</td><td style=\"text-align: right;\">  30016</td></tr>\n",
       "</tbody>\n",
       "</table>"
      ]
     },
     "metadata": {},
     "output_type": "display_data"
    },
    {
     "data": {
      "text/plain": []
     },
     "execution_count": 48,
     "metadata": {},
     "output_type": "execute_result"
    }
   ],
   "source": [
    "# Calculate the number of bad and good loans\n",
    "loans[\"bad_loan\"].table()"
   ]
  },
  {
   "cell_type": "code",
   "execution_count": 49,
   "metadata": {},
   "outputs": [],
   "source": [
    "%matplotlib inline"
   ]
  },
  {
   "cell_type": "code",
   "execution_count": 50,
   "metadata": {},
   "outputs": [
    {
     "data": {
      "image/png": "[encoded data removed]",
      "text/plain": [
       "<Figure size 432x288 with 1 Axes>"
      ]
     },
     "metadata": {
      "needs_background": "light"
     },
     "output_type": "display_data"
    }
   ],
   "source": [
    "# Visualize the distribution of `int_rate` for bad loans\n",
    "loans[loans[\"bad_loan\"] == \"1\"][\"int_rate\"].hist()"
   ]
  },
  {
   "cell_type": "code",
   "execution_count": 52,
   "metadata": {},
   "outputs": [
    {
     "data": {
      "image/png": "[encoded data removed]",
      "text/plain": [
       "<Figure size 432x288 with 1 Axes>"
      ]
     },
     "metadata": {
      "needs_background": "light"
     },
     "output_type": "display_data"
    }
   ],
   "source": [
    "# Visualize the distribution of `int_rate` for good loans\n",
    "loans[loans[\"bad_loan\"] == \"0\"][\"int_rate\"].hist()"
   ]
  },
  {
   "cell_type": "markdown",
   "metadata": {},
   "source": [
    "We can also see that the interest rate is typically greater for bad loans.  We can assume that the `int_rate` will be helpful in determining if the loan will default.\n"
   ]
  },
  {
   "cell_type": "markdown",
   "metadata": {},
   "source": [
    "\n",
    "# Step 4 (of 6). Train a GBM Model\n",
    "\n",
    "\n",
    "Now that we have examined the data, we will train a Gradient Boosting Model to predict `bad_loan`.  We will first randomly split our data into training and testing.  We will use the testing data to see how well the model is able to predict loan default on new loans.  This will mimic how the model will perform in production."
   ]
  },
  {
   "cell_type": "code",
   "execution_count": 53,
   "metadata": {},
   "outputs": [],
   "source": [
    "# Split data into 75% train and 25% test\n",
    "train, test = loans.split_frame(seed = 1234, ratios=[0.75], destination_frames=[\"train\", \"test\"])"
   ]
  },
  {
   "cell_type": "code",
   "execution_count": 56,
   "metadata": {},
   "outputs": [
    {
     "name": "stdout",
     "output_type": "stream",
     "text": [
      "gbm Model Build progress: |███████████████████████████████████████████████| 100%\n"
     ]
    }
   ],
   "source": [
    "# Train GBM with one tree\n",
    "from h2o.estimators import H2OGradientBoostingEstimator\n",
    "\n",
    "gbm_model = H2OGradientBoostingEstimator(model_id = \"gbm\", ntrees = 10)\n",
    "gbm_model.train(y = \"bad_loan\", training_frame=train)"
   ]
  },
  {
   "cell_type": "code",
   "execution_count": 57,
   "metadata": {
    "scrolled": false
   },
   "outputs": [
    {
     "name": "stdout",
     "output_type": "stream",
     "text": [
      "Model Details\n",
      "=============\n",
      "H2OGradientBoostingEstimator :  Gradient Boosting Machine\n",
      "Model Key:  gbm\n",
      "\n",
      "\n",
      "Model Summary: \n"
     ]
    },
    {
     "data": {
      "text/html": [
       "<div>\n",
       "<style scoped>\n",
       "    .dataframe tbody tr th:only-of-type {\n",
       "        vertical-align: middle;\n",
       "    }\n",
       "\n",
       "    .dataframe tbody tr th {\n",
       "        vertical-align: top;\n",
       "    }\n",
       "\n",
       "    .dataframe thead th {\n",
       "        text-align: right;\n",
       "    }\n",
       "</style>\n",
       "<table border=\"1\" class=\"dataframe\">\n",
       "  <thead>\n",
       "    <tr style=\"text-align: right;\">\n",
       "      <th></th>\n",
       "      <th></th>\n",
       "      <th>number_of_trees</th>\n",
       "      <th>number_of_internal_trees</th>\n",
       "      <th>model_size_in_bytes</th>\n",
       "      <th>min_depth</th>\n",
       "      <th>max_depth</th>\n",
       "      <th>mean_depth</th>\n",
       "      <th>min_leaves</th>\n",
       "      <th>max_leaves</th>\n",
       "      <th>mean_leaves</th>\n",
       "    </tr>\n",
       "  </thead>\n",
       "  <tbody>\n",
       "    <tr>\n",
       "      <td>0</td>\n",
       "      <td></td>\n",
       "      <td>10.0</td>\n",
       "      <td>10.0</td>\n",
       "      <td>5308.0</td>\n",
       "      <td>5.0</td>\n",
       "      <td>5.0</td>\n",
       "      <td>5.0</td>\n",
       "      <td>31.0</td>\n",
       "      <td>32.0</td>\n",
       "      <td>31.8</td>\n",
       "    </tr>\n",
       "  </tbody>\n",
       "</table>\n",
       "</div>"
      ],
      "text/plain": [
       "     number_of_trees  number_of_internal_trees  model_size_in_bytes  \\\n",
       "0               10.0                      10.0               5308.0   \n",
       "\n",
       "   min_depth  max_depth  mean_depth  min_leaves  max_leaves  mean_leaves  \n",
       "0        5.0        5.0         5.0        31.0        32.0         31.8  "
      ]
     },
     "metadata": {},
     "output_type": "display_data"
    },
    {
     "name": "stdout",
     "output_type": "stream",
     "text": [
      "\n",
      "\n",
      "ModelMetricsBinomial: gbm\n",
      "** Reported on train data. **\n",
      "\n",
      "MSE: 0.13904129723034997\n",
      "RMSE: 0.37288241743256006\n",
      "LogLoss: 0.44228363612282684\n",
      "Mean Per-Class Error: 0.3507377910416285\n",
      "AUC: 0.7063745430087265\n",
      "pr_auc: 0.35376066820668967\n",
      "Gini: 0.41274908601745297\n",
      "\n",
      "Confusion Matrix (Act/Pred) for max f1 @ threshold = 0.20271148017267396: \n"
     ]
    },
    {
     "data": {
      "text/html": [
       "<div>\n",
       "<style scoped>\n",
       "    .dataframe tbody tr th:only-of-type {\n",
       "        vertical-align: middle;\n",
       "    }\n",
       "\n",
       "    .dataframe tbody tr th {\n",
       "        vertical-align: top;\n",
       "    }\n",
       "\n",
       "    .dataframe thead th {\n",
       "        text-align: right;\n",
       "    }\n",
       "</style>\n",
       "<table border=\"1\" class=\"dataframe\">\n",
       "  <thead>\n",
       "    <tr style=\"text-align: right;\">\n",
       "      <th></th>\n",
       "      <th></th>\n",
       "      <th>0</th>\n",
       "      <th>1</th>\n",
       "      <th>Error</th>\n",
       "      <th>Rate</th>\n",
       "    </tr>\n",
       "  </thead>\n",
       "  <tbody>\n",
       "    <tr>\n",
       "      <td>0</td>\n",
       "      <td>0</td>\n",
       "      <td>72231.0</td>\n",
       "      <td>28320.0</td>\n",
       "      <td>0.2816</td>\n",
       "      <td>(28320.0/100551.0)</td>\n",
       "    </tr>\n",
       "    <tr>\n",
       "      <td>1</td>\n",
       "      <td>1</td>\n",
       "      <td>9623.0</td>\n",
       "      <td>12888.0</td>\n",
       "      <td>0.4275</td>\n",
       "      <td>(9623.0/22511.0)</td>\n",
       "    </tr>\n",
       "    <tr>\n",
       "      <td>2</td>\n",
       "      <td>Total</td>\n",
       "      <td>81854.0</td>\n",
       "      <td>41208.0</td>\n",
       "      <td>0.3083</td>\n",
       "      <td>(37943.0/123062.0)</td>\n",
       "    </tr>\n",
       "  </tbody>\n",
       "</table>\n",
       "</div>"
      ],
      "text/plain": [
       "                0        1   Error                 Rate\n",
       "0      0  72231.0  28320.0  0.2816   (28320.0/100551.0)\n",
       "1      1   9623.0  12888.0  0.4275     (9623.0/22511.0)\n",
       "2  Total  81854.0  41208.0  0.3083   (37943.0/123062.0)"
      ]
     },
     "metadata": {},
     "output_type": "display_data"
    },
    {
     "name": "stdout",
     "output_type": "stream",
     "text": [
      "\n",
      "Maximum Metrics: Maximum metrics at their respective thresholds\n"
     ]
    },
    {
     "data": {
      "text/html": [
       "<div>\n",
       "<style scoped>\n",
       "    .dataframe tbody tr th:only-of-type {\n",
       "        vertical-align: middle;\n",
       "    }\n",
       "\n",
       "    .dataframe tbody tr th {\n",
       "        vertical-align: top;\n",
       "    }\n",
       "\n",
       "    .dataframe thead th {\n",
       "        text-align: right;\n",
       "    }\n",
       "</style>\n",
       "<table border=\"1\" class=\"dataframe\">\n",
       "  <thead>\n",
       "    <tr style=\"text-align: right;\">\n",
       "      <th></th>\n",
       "      <th>metric</th>\n",
       "      <th>threshold</th>\n",
       "      <th>value</th>\n",
       "      <th>idx</th>\n",
       "    </tr>\n",
       "  </thead>\n",
       "  <tbody>\n",
       "    <tr>\n",
       "      <td>0</td>\n",
       "      <td>max f1</td>\n",
       "      <td>0.202711</td>\n",
       "      <td>0.404526</td>\n",
       "      <td>220.0</td>\n",
       "    </tr>\n",
       "    <tr>\n",
       "      <td>1</td>\n",
       "      <td>max f2</td>\n",
       "      <td>0.140941</td>\n",
       "      <td>0.564824</td>\n",
       "      <td>318.0</td>\n",
       "    </tr>\n",
       "    <tr>\n",
       "      <td>2</td>\n",
       "      <td>max f0point5</td>\n",
       "      <td>0.265436</td>\n",
       "      <td>0.377006</td>\n",
       "      <td>128.0</td>\n",
       "    </tr>\n",
       "    <tr>\n",
       "      <td>3</td>\n",
       "      <td>max accuracy</td>\n",
       "      <td>0.350448</td>\n",
       "      <td>0.819506</td>\n",
       "      <td>37.0</td>\n",
       "    </tr>\n",
       "    <tr>\n",
       "      <td>4</td>\n",
       "      <td>max precision</td>\n",
       "      <td>0.467827</td>\n",
       "      <td>1.000000</td>\n",
       "      <td>0.0</td>\n",
       "    </tr>\n",
       "    <tr>\n",
       "      <td>5</td>\n",
       "      <td>max recall</td>\n",
       "      <td>0.085840</td>\n",
       "      <td>1.000000</td>\n",
       "      <td>398.0</td>\n",
       "    </tr>\n",
       "    <tr>\n",
       "      <td>6</td>\n",
       "      <td>max specificity</td>\n",
       "      <td>0.467827</td>\n",
       "      <td>1.000000</td>\n",
       "      <td>0.0</td>\n",
       "    </tr>\n",
       "    <tr>\n",
       "      <td>7</td>\n",
       "      <td>max absolute_mcc</td>\n",
       "      <td>0.202711</td>\n",
       "      <td>0.238277</td>\n",
       "      <td>220.0</td>\n",
       "    </tr>\n",
       "    <tr>\n",
       "      <td>8</td>\n",
       "      <td>max min_per_class_accuracy</td>\n",
       "      <td>0.185949</td>\n",
       "      <td>0.648238</td>\n",
       "      <td>246.0</td>\n",
       "    </tr>\n",
       "    <tr>\n",
       "      <td>9</td>\n",
       "      <td>max mean_per_class_accuracy</td>\n",
       "      <td>0.180569</td>\n",
       "      <td>0.649262</td>\n",
       "      <td>254.0</td>\n",
       "    </tr>\n",
       "    <tr>\n",
       "      <td>10</td>\n",
       "      <td>max tns</td>\n",
       "      <td>0.467827</td>\n",
       "      <td>100551.000000</td>\n",
       "      <td>0.0</td>\n",
       "    </tr>\n",
       "    <tr>\n",
       "      <td>11</td>\n",
       "      <td>max fns</td>\n",
       "      <td>0.467827</td>\n",
       "      <td>22509.000000</td>\n",
       "      <td>0.0</td>\n",
       "    </tr>\n",
       "    <tr>\n",
       "      <td>12</td>\n",
       "      <td>max fps</td>\n",
       "      <td>0.084139</td>\n",
       "      <td>100551.000000</td>\n",
       "      <td>399.0</td>\n",
       "    </tr>\n",
       "    <tr>\n",
       "      <td>13</td>\n",
       "      <td>max tps</td>\n",
       "      <td>0.085840</td>\n",
       "      <td>22511.000000</td>\n",
       "      <td>398.0</td>\n",
       "    </tr>\n",
       "    <tr>\n",
       "      <td>14</td>\n",
       "      <td>max tnr</td>\n",
       "      <td>0.467827</td>\n",
       "      <td>1.000000</td>\n",
       "      <td>0.0</td>\n",
       "    </tr>\n",
       "    <tr>\n",
       "      <td>15</td>\n",
       "      <td>max fnr</td>\n",
       "      <td>0.467827</td>\n",
       "      <td>0.999911</td>\n",
       "      <td>0.0</td>\n",
       "    </tr>\n",
       "    <tr>\n",
       "      <td>16</td>\n",
       "      <td>max fpr</td>\n",
       "      <td>0.084139</td>\n",
       "      <td>1.000000</td>\n",
       "      <td>399.0</td>\n",
       "    </tr>\n",
       "    <tr>\n",
       "      <td>17</td>\n",
       "      <td>max tpr</td>\n",
       "      <td>0.085840</td>\n",
       "      <td>1.000000</td>\n",
       "      <td>398.0</td>\n",
       "    </tr>\n",
       "  </tbody>\n",
       "</table>\n",
       "</div>"
      ],
      "text/plain": [
       "                         metric  threshold          value    idx\n",
       "0                        max f1   0.202711       0.404526  220.0\n",
       "1                        max f2   0.140941       0.564824  318.0\n",
       "2                  max f0point5   0.265436       0.377006  128.0\n",
       "3                  max accuracy   0.350448       0.819506   37.0\n",
       "4                 max precision   0.467827       1.000000    0.0\n",
       "5                    max recall   0.085840       1.000000  398.0\n",
       "6               max specificity   0.467827       1.000000    0.0\n",
       "7              max absolute_mcc   0.202711       0.238277  220.0\n",
       "8    max min_per_class_accuracy   0.185949       0.648238  246.0\n",
       "9   max mean_per_class_accuracy   0.180569       0.649262  254.0\n",
       "10                      max tns   0.467827  100551.000000    0.0\n",
       "11                      max fns   0.467827   22509.000000    0.0\n",
       "12                      max fps   0.084139  100551.000000  399.0\n",
       "13                      max tps   0.085840   22511.000000  398.0\n",
       "14                      max tnr   0.467827       1.000000    0.0\n",
       "15                      max fnr   0.467827       0.999911    0.0\n",
       "16                      max fpr   0.084139       1.000000  399.0\n",
       "17                      max tpr   0.085840       1.000000  398.0"
      ]
     },
     "metadata": {},
     "output_type": "display_data"
    },
    {
     "name": "stdout",
     "output_type": "stream",
     "text": [
      "\n",
      "Gains/Lift Table: Avg response rate: 18.29 %, avg score: 18.35 %\n"
     ]
    },
    {
     "data": {
      "text/html": [
       "<div>\n",
       "<style scoped>\n",
       "    .dataframe tbody tr th:only-of-type {\n",
       "        vertical-align: middle;\n",
       "    }\n",
       "\n",
       "    .dataframe tbody tr th {\n",
       "        vertical-align: top;\n",
       "    }\n",
       "\n",
       "    .dataframe thead th {\n",
       "        text-align: right;\n",
       "    }\n",
       "</style>\n",
       "<table border=\"1\" class=\"dataframe\">\n",
       "  <thead>\n",
       "    <tr style=\"text-align: right;\">\n",
       "      <th></th>\n",
       "      <th></th>\n",
       "      <th>group</th>\n",
       "      <th>cumulative_data_fraction</th>\n",
       "      <th>lower_threshold</th>\n",
       "      <th>lift</th>\n",
       "      <th>cumulative_lift</th>\n",
       "      <th>response_rate</th>\n",
       "      <th>score</th>\n",
       "      <th>cumulative_response_rate</th>\n",
       "      <th>cumulative_score</th>\n",
       "      <th>capture_rate</th>\n",
       "      <th>cumulative_capture_rate</th>\n",
       "      <th>gain</th>\n",
       "      <th>cumulative_gain</th>\n",
       "    </tr>\n",
       "  </thead>\n",
       "  <tbody>\n",
       "    <tr>\n",
       "      <td>0</td>\n",
       "      <td></td>\n",
       "      <td>1</td>\n",
       "      <td>0.010003</td>\n",
       "      <td>0.353856</td>\n",
       "      <td>3.335117</td>\n",
       "      <td>3.335117</td>\n",
       "      <td>0.610073</td>\n",
       "      <td>0.378014</td>\n",
       "      <td>0.610073</td>\n",
       "      <td>0.378014</td>\n",
       "      <td>0.033361</td>\n",
       "      <td>0.033361</td>\n",
       "      <td>233.511693</td>\n",
       "      <td>233.511693</td>\n",
       "    </tr>\n",
       "    <tr>\n",
       "      <td>1</td>\n",
       "      <td></td>\n",
       "      <td>2</td>\n",
       "      <td>0.020022</td>\n",
       "      <td>0.335038</td>\n",
       "      <td>2.686821</td>\n",
       "      <td>3.010706</td>\n",
       "      <td>0.491484</td>\n",
       "      <td>0.344108</td>\n",
       "      <td>0.550731</td>\n",
       "      <td>0.361048</td>\n",
       "      <td>0.026920</td>\n",
       "      <td>0.060282</td>\n",
       "      <td>168.682097</td>\n",
       "      <td>201.070584</td>\n",
       "    </tr>\n",
       "    <tr>\n",
       "      <td>2</td>\n",
       "      <td></td>\n",
       "      <td>3</td>\n",
       "      <td>0.030001</td>\n",
       "      <td>0.321235</td>\n",
       "      <td>2.444011</td>\n",
       "      <td>2.822217</td>\n",
       "      <td>0.447068</td>\n",
       "      <td>0.328044</td>\n",
       "      <td>0.516251</td>\n",
       "      <td>0.350070</td>\n",
       "      <td>0.024388</td>\n",
       "      <td>0.084670</td>\n",
       "      <td>144.401101</td>\n",
       "      <td>182.221688</td>\n",
       "    </tr>\n",
       "    <tr>\n",
       "      <td>3</td>\n",
       "      <td></td>\n",
       "      <td>4</td>\n",
       "      <td>0.040118</td>\n",
       "      <td>0.311975</td>\n",
       "      <td>2.586278</td>\n",
       "      <td>2.762718</td>\n",
       "      <td>0.473092</td>\n",
       "      <td>0.316515</td>\n",
       "      <td>0.505368</td>\n",
       "      <td>0.341609</td>\n",
       "      <td>0.026165</td>\n",
       "      <td>0.110835</td>\n",
       "      <td>158.627752</td>\n",
       "      <td>176.271830</td>\n",
       "    </tr>\n",
       "    <tr>\n",
       "      <td>4</td>\n",
       "      <td></td>\n",
       "      <td>5</td>\n",
       "      <td>0.050007</td>\n",
       "      <td>0.304654</td>\n",
       "      <td>2.308882</td>\n",
       "      <td>2.672969</td>\n",
       "      <td>0.422350</td>\n",
       "      <td>0.307814</td>\n",
       "      <td>0.488950</td>\n",
       "      <td>0.334925</td>\n",
       "      <td>0.022833</td>\n",
       "      <td>0.133668</td>\n",
       "      <td>130.888191</td>\n",
       "      <td>167.296872</td>\n",
       "    </tr>\n",
       "    <tr>\n",
       "      <td>5</td>\n",
       "      <td></td>\n",
       "      <td>6</td>\n",
       "      <td>0.100031</td>\n",
       "      <td>0.277938</td>\n",
       "      <td>2.031826</td>\n",
       "      <td>2.352345</td>\n",
       "      <td>0.371670</td>\n",
       "      <td>0.289962</td>\n",
       "      <td>0.430301</td>\n",
       "      <td>0.312440</td>\n",
       "      <td>0.101639</td>\n",
       "      <td>0.235307</td>\n",
       "      <td>103.182636</td>\n",
       "      <td>135.234546</td>\n",
       "    </tr>\n",
       "    <tr>\n",
       "      <td>6</td>\n",
       "      <td></td>\n",
       "      <td>7</td>\n",
       "      <td>0.150014</td>\n",
       "      <td>0.259550</td>\n",
       "      <td>1.717080</td>\n",
       "      <td>2.140682</td>\n",
       "      <td>0.314095</td>\n",
       "      <td>0.268317</td>\n",
       "      <td>0.391582</td>\n",
       "      <td>0.297739</td>\n",
       "      <td>0.085825</td>\n",
       "      <td>0.321132</td>\n",
       "      <td>71.708018</td>\n",
       "      <td>114.068213</td>\n",
       "    </tr>\n",
       "    <tr>\n",
       "      <td>7</td>\n",
       "      <td></td>\n",
       "      <td>8</td>\n",
       "      <td>0.200005</td>\n",
       "      <td>0.241770</td>\n",
       "      <td>1.519529</td>\n",
       "      <td>1.985425</td>\n",
       "      <td>0.277958</td>\n",
       "      <td>0.250188</td>\n",
       "      <td>0.363182</td>\n",
       "      <td>0.285853</td>\n",
       "      <td>0.075963</td>\n",
       "      <td>0.397095</td>\n",
       "      <td>51.952890</td>\n",
       "      <td>98.542537</td>\n",
       "    </tr>\n",
       "    <tr>\n",
       "      <td>8</td>\n",
       "      <td></td>\n",
       "      <td>9</td>\n",
       "      <td>0.300060</td>\n",
       "      <td>0.210736</td>\n",
       "      <td>1.323954</td>\n",
       "      <td>1.764857</td>\n",
       "      <td>0.242183</td>\n",
       "      <td>0.226133</td>\n",
       "      <td>0.322835</td>\n",
       "      <td>0.265940</td>\n",
       "      <td>0.132469</td>\n",
       "      <td>0.529563</td>\n",
       "      <td>32.395414</td>\n",
       "      <td>76.485733</td>\n",
       "    </tr>\n",
       "    <tr>\n",
       "      <td>9</td>\n",
       "      <td></td>\n",
       "      <td>10</td>\n",
       "      <td>0.400010</td>\n",
       "      <td>0.187314</td>\n",
       "      <td>1.135128</td>\n",
       "      <td>1.607508</td>\n",
       "      <td>0.207642</td>\n",
       "      <td>0.198526</td>\n",
       "      <td>0.294052</td>\n",
       "      <td>0.249095</td>\n",
       "      <td>0.113456</td>\n",
       "      <td>0.643019</td>\n",
       "      <td>13.512833</td>\n",
       "      <td>60.750823</td>\n",
       "    </tr>\n",
       "    <tr>\n",
       "      <td>10</td>\n",
       "      <td></td>\n",
       "      <td>11</td>\n",
       "      <td>0.502064</td>\n",
       "      <td>0.168293</td>\n",
       "      <td>0.926723</td>\n",
       "      <td>1.469125</td>\n",
       "      <td>0.169520</td>\n",
       "      <td>0.177081</td>\n",
       "      <td>0.268738</td>\n",
       "      <td>0.234457</td>\n",
       "      <td>0.094576</td>\n",
       "      <td>0.737595</td>\n",
       "      <td>-7.327734</td>\n",
       "      <td>46.912536</td>\n",
       "    </tr>\n",
       "    <tr>\n",
       "      <td>11</td>\n",
       "      <td></td>\n",
       "      <td>12</td>\n",
       "      <td>0.600015</td>\n",
       "      <td>0.154185</td>\n",
       "      <td>0.803640</td>\n",
       "      <td>1.360487</td>\n",
       "      <td>0.147005</td>\n",
       "      <td>0.161406</td>\n",
       "      <td>0.248866</td>\n",
       "      <td>0.222532</td>\n",
       "      <td>0.078717</td>\n",
       "      <td>0.816312</td>\n",
       "      <td>-19.635969</td>\n",
       "      <td>36.048688</td>\n",
       "    </tr>\n",
       "    <tr>\n",
       "      <td>12</td>\n",
       "      <td></td>\n",
       "      <td>13</td>\n",
       "      <td>0.700005</td>\n",
       "      <td>0.141010</td>\n",
       "      <td>0.673070</td>\n",
       "      <td>1.262295</td>\n",
       "      <td>0.123121</td>\n",
       "      <td>0.147500</td>\n",
       "      <td>0.230904</td>\n",
       "      <td>0.211814</td>\n",
       "      <td>0.067300</td>\n",
       "      <td>0.883612</td>\n",
       "      <td>-32.693006</td>\n",
       "      <td>26.229472</td>\n",
       "    </tr>\n",
       "    <tr>\n",
       "      <td>13</td>\n",
       "      <td></td>\n",
       "      <td>14</td>\n",
       "      <td>0.800223</td>\n",
       "      <td>0.129002</td>\n",
       "      <td>0.562943</td>\n",
       "      <td>1.174710</td>\n",
       "      <td>0.102976</td>\n",
       "      <td>0.135587</td>\n",
       "      <td>0.214883</td>\n",
       "      <td>0.202267</td>\n",
       "      <td>0.056417</td>\n",
       "      <td>0.940029</td>\n",
       "      <td>-43.705733</td>\n",
       "      <td>17.470971</td>\n",
       "    </tr>\n",
       "    <tr>\n",
       "      <td>14</td>\n",
       "      <td></td>\n",
       "      <td>15</td>\n",
       "      <td>0.900026</td>\n",
       "      <td>0.110095</td>\n",
       "      <td>0.402373</td>\n",
       "      <td>1.089066</td>\n",
       "      <td>0.073604</td>\n",
       "      <td>0.120202</td>\n",
       "      <td>0.199216</td>\n",
       "      <td>0.193167</td>\n",
       "      <td>0.040158</td>\n",
       "      <td>0.980187</td>\n",
       "      <td>-59.762729</td>\n",
       "      <td>8.906572</td>\n",
       "    </tr>\n",
       "    <tr>\n",
       "      <td>15</td>\n",
       "      <td></td>\n",
       "      <td>16</td>\n",
       "      <td>1.000000</td>\n",
       "      <td>0.084139</td>\n",
       "      <td>0.198177</td>\n",
       "      <td>1.000000</td>\n",
       "      <td>0.036251</td>\n",
       "      <td>0.096787</td>\n",
       "      <td>0.182924</td>\n",
       "      <td>0.183532</td>\n",
       "      <td>0.019813</td>\n",
       "      <td>1.000000</td>\n",
       "      <td>-80.182311</td>\n",
       "      <td>0.000000</td>\n",
       "    </tr>\n",
       "  </tbody>\n",
       "</table>\n",
       "</div>"
      ],
      "text/plain": [
       "      group  cumulative_data_fraction  lower_threshold      lift  \\\n",
       "0         1                  0.010003         0.353856  3.335117   \n",
       "1         2                  0.020022         0.335038  2.686821   \n",
       "2         3                  0.030001         0.321235  2.444011   \n",
       "3         4                  0.040118         0.311975  2.586278   \n",
       "4         5                  0.050007         0.304654  2.308882   \n",
       "5         6                  0.100031         0.277938  2.031826   \n",
       "6         7                  0.150014         0.259550  1.717080   \n",
       "7         8                  0.200005         0.241770  1.519529   \n",
       "8         9                  0.300060         0.210736  1.323954   \n",
       "9        10                  0.400010         0.187314  1.135128   \n",
       "10       11                  0.502064         0.168293  0.926723   \n",
       "11       12                  0.600015         0.154185  0.803640   \n",
       "12       13                  0.700005         0.141010  0.673070   \n",
       "13       14                  0.800223         0.129002  0.562943   \n",
       "14       15                  0.900026         0.110095  0.402373   \n",
       "15       16                  1.000000         0.084139  0.198177   \n",
       "\n",
       "    cumulative_lift  response_rate     score  cumulative_response_rate  \\\n",
       "0          3.335117       0.610073  0.378014                  0.610073   \n",
       "1          3.010706       0.491484  0.344108                  0.550731   \n",
       "2          2.822217       0.447068  0.328044                  0.516251   \n",
       "3          2.762718       0.473092  0.316515                  0.505368   \n",
       "4          2.672969       0.422350  0.307814                  0.488950   \n",
       "5          2.352345       0.371670  0.289962                  0.430301   \n",
       "6          2.140682       0.314095  0.268317                  0.391582   \n",
       "7          1.985425       0.277958  0.250188                  0.363182   \n",
       "8          1.764857       0.242183  0.226133                  0.322835   \n",
       "9          1.607508       0.207642  0.198526                  0.294052   \n",
       "10         1.469125       0.169520  0.177081                  0.268738   \n",
       "11         1.360487       0.147005  0.161406                  0.248866   \n",
       "12         1.262295       0.123121  0.147500                  0.230904   \n",
       "13         1.174710       0.102976  0.135587                  0.214883   \n",
       "14         1.089066       0.073604  0.120202                  0.199216   \n",
       "15         1.000000       0.036251  0.096787                  0.182924   \n",
       "\n",
       "    cumulative_score  capture_rate  cumulative_capture_rate        gain  \\\n",
       "0           0.378014      0.033361                 0.033361  233.511693   \n",
       "1           0.361048      0.026920                 0.060282  168.682097   \n",
       "2           0.350070      0.024388                 0.084670  144.401101   \n",
       "3           0.341609      0.026165                 0.110835  158.627752   \n",
       "4           0.334925      0.022833                 0.133668  130.888191   \n",
       "5           0.312440      0.101639                 0.235307  103.182636   \n",
       "6           0.297739      0.085825                 0.321132   71.708018   \n",
       "7           0.285853      0.075963                 0.397095   51.952890   \n",
       "8           0.265940      0.132469                 0.529563   32.395414   \n",
       "9           0.249095      0.113456                 0.643019   13.512833   \n",
       "10          0.234457      0.094576                 0.737595   -7.327734   \n",
       "11          0.222532      0.078717                 0.816312  -19.635969   \n",
       "12          0.211814      0.067300                 0.883612  -32.693006   \n",
       "13          0.202267      0.056417                 0.940029  -43.705733   \n",
       "14          0.193167      0.040158                 0.980187  -59.762729   \n",
       "15          0.183532      0.019813                 1.000000  -80.182311   \n",
       "\n",
       "    cumulative_gain  \n",
       "0        233.511693  \n",
       "1        201.070584  \n",
       "2        182.221688  \n",
       "3        176.271830  \n",
       "4        167.296872  \n",
       "5        135.234546  \n",
       "6        114.068213  \n",
       "7         98.542537  \n",
       "8         76.485733  \n",
       "9         60.750823  \n",
       "10        46.912536  \n",
       "11        36.048688  \n",
       "12        26.229472  \n",
       "13        17.470971  \n",
       "14         8.906572  \n",
       "15         0.000000  "
      ]
     },
     "metadata": {},
     "output_type": "display_data"
    },
    {
     "name": "stdout",
     "output_type": "stream",
     "text": [
      "\n",
      "\n",
      "Scoring History: \n"
     ]
    },
    {
     "data": {
      "text/html": [
       "<div>\n",
       "<style scoped>\n",
       "    .dataframe tbody tr th:only-of-type {\n",
       "        vertical-align: middle;\n",
       "    }\n",
       "\n",
       "    .dataframe tbody tr th {\n",
       "        vertical-align: top;\n",
       "    }\n",
       "\n",
       "    .dataframe thead th {\n",
       "        text-align: right;\n",
       "    }\n",
       "</style>\n",
       "<table border=\"1\" class=\"dataframe\">\n",
       "  <thead>\n",
       "    <tr style=\"text-align: right;\">\n",
       "      <th></th>\n",
       "      <th></th>\n",
       "      <th>timestamp</th>\n",
       "      <th>duration</th>\n",
       "      <th>number_of_trees</th>\n",
       "      <th>training_rmse</th>\n",
       "      <th>training_logloss</th>\n",
       "      <th>training_auc</th>\n",
       "      <th>training_pr_auc</th>\n",
       "      <th>training_lift</th>\n",
       "      <th>training_classification_error</th>\n",
       "    </tr>\n",
       "  </thead>\n",
       "  <tbody>\n",
       "    <tr>\n",
       "      <td>0</td>\n",
       "      <td></td>\n",
       "      <td>2019-11-20 11:58:04</td>\n",
       "      <td>0.013 sec</td>\n",
       "      <td>0.0</td>\n",
       "      <td>0.386604</td>\n",
       "      <td>0.475799</td>\n",
       "      <td>0.500000</td>\n",
       "      <td>0.000000</td>\n",
       "      <td>1.000000</td>\n",
       "      <td>0.817076</td>\n",
       "    </tr>\n",
       "    <tr>\n",
       "      <td>1</td>\n",
       "      <td></td>\n",
       "      <td>2019-11-20 11:58:04</td>\n",
       "      <td>0.239 sec</td>\n",
       "      <td>1.0</td>\n",
       "      <td>0.383984</td>\n",
       "      <td>0.469160</td>\n",
       "      <td>0.688417</td>\n",
       "      <td>0.317658</td>\n",
       "      <td>2.542461</td>\n",
       "      <td>0.346614</td>\n",
       "    </tr>\n",
       "    <tr>\n",
       "      <td>2</td>\n",
       "      <td></td>\n",
       "      <td>2019-11-20 11:58:04</td>\n",
       "      <td>0.415 sec</td>\n",
       "      <td>2.0</td>\n",
       "      <td>0.381811</td>\n",
       "      <td>0.463795</td>\n",
       "      <td>0.693838</td>\n",
       "      <td>0.325628</td>\n",
       "      <td>2.828651</td>\n",
       "      <td>0.357137</td>\n",
       "    </tr>\n",
       "    <tr>\n",
       "      <td>3</td>\n",
       "      <td></td>\n",
       "      <td>2019-11-20 11:58:05</td>\n",
       "      <td>0.558 sec</td>\n",
       "      <td>3.0</td>\n",
       "      <td>0.380002</td>\n",
       "      <td>0.459408</td>\n",
       "      <td>0.696490</td>\n",
       "      <td>0.331776</td>\n",
       "      <td>2.927670</td>\n",
       "      <td>0.326161</td>\n",
       "    </tr>\n",
       "    <tr>\n",
       "      <td>4</td>\n",
       "      <td></td>\n",
       "      <td>2019-11-20 11:58:05</td>\n",
       "      <td>0.649 sec</td>\n",
       "      <td>4.0</td>\n",
       "      <td>0.378433</td>\n",
       "      <td>0.455633</td>\n",
       "      <td>0.698839</td>\n",
       "      <td>0.338307</td>\n",
       "      <td>3.023147</td>\n",
       "      <td>0.318165</td>\n",
       "    </tr>\n",
       "    <tr>\n",
       "      <td>5</td>\n",
       "      <td></td>\n",
       "      <td>2019-11-20 11:58:05</td>\n",
       "      <td>0.779 sec</td>\n",
       "      <td>5.0</td>\n",
       "      <td>0.377134</td>\n",
       "      <td>0.452474</td>\n",
       "      <td>0.701430</td>\n",
       "      <td>0.341520</td>\n",
       "      <td>3.073391</td>\n",
       "      <td>0.331573</td>\n",
       "    </tr>\n",
       "    <tr>\n",
       "      <td>6</td>\n",
       "      <td></td>\n",
       "      <td>2019-11-20 11:58:05</td>\n",
       "      <td>0.873 sec</td>\n",
       "      <td>6.0</td>\n",
       "      <td>0.376027</td>\n",
       "      <td>0.449820</td>\n",
       "      <td>0.702664</td>\n",
       "      <td>0.344766</td>\n",
       "      <td>3.205246</td>\n",
       "      <td>0.324625</td>\n",
       "    </tr>\n",
       "    <tr>\n",
       "      <td>7</td>\n",
       "      <td></td>\n",
       "      <td>2019-11-20 11:58:05</td>\n",
       "      <td>0.950 sec</td>\n",
       "      <td>7.0</td>\n",
       "      <td>0.375075</td>\n",
       "      <td>0.447543</td>\n",
       "      <td>0.703559</td>\n",
       "      <td>0.347177</td>\n",
       "      <td>3.208085</td>\n",
       "      <td>0.314598</td>\n",
       "    </tr>\n",
       "    <tr>\n",
       "      <td>8</td>\n",
       "      <td></td>\n",
       "      <td>2019-11-20 11:58:05</td>\n",
       "      <td>1.076 sec</td>\n",
       "      <td>8.0</td>\n",
       "      <td>0.374238</td>\n",
       "      <td>0.445519</td>\n",
       "      <td>0.704480</td>\n",
       "      <td>0.349733</td>\n",
       "      <td>3.277385</td>\n",
       "      <td>0.342868</td>\n",
       "    </tr>\n",
       "    <tr>\n",
       "      <td>9</td>\n",
       "      <td></td>\n",
       "      <td>2019-11-20 11:58:05</td>\n",
       "      <td>1.152 sec</td>\n",
       "      <td>9.0</td>\n",
       "      <td>0.373544</td>\n",
       "      <td>0.443833</td>\n",
       "      <td>0.705162</td>\n",
       "      <td>0.350933</td>\n",
       "      <td>3.265048</td>\n",
       "      <td>0.336148</td>\n",
       "    </tr>\n",
       "    <tr>\n",
       "      <td>10</td>\n",
       "      <td></td>\n",
       "      <td>2019-11-20 11:58:05</td>\n",
       "      <td>1.203 sec</td>\n",
       "      <td>10.0</td>\n",
       "      <td>0.372882</td>\n",
       "      <td>0.442284</td>\n",
       "      <td>0.706375</td>\n",
       "      <td>0.353761</td>\n",
       "      <td>3.335117</td>\n",
       "      <td>0.308324</td>\n",
       "    </tr>\n",
       "  </tbody>\n",
       "</table>\n",
       "</div>"
      ],
      "text/plain": [
       "                timestamp    duration  number_of_trees  training_rmse  \\\n",
       "0     2019-11-20 11:58:04   0.013 sec              0.0       0.386604   \n",
       "1     2019-11-20 11:58:04   0.239 sec              1.0       0.383984   \n",
       "2     2019-11-20 11:58:04   0.415 sec              2.0       0.381811   \n",
       "3     2019-11-20 11:58:05   0.558 sec              3.0       0.380002   \n",
       "4     2019-11-20 11:58:05   0.649 sec              4.0       0.378433   \n",
       "5     2019-11-20 11:58:05   0.779 sec              5.0       0.377134   \n",
       "6     2019-11-20 11:58:05   0.873 sec              6.0       0.376027   \n",
       "7     2019-11-20 11:58:05   0.950 sec              7.0       0.375075   \n",
       "8     2019-11-20 11:58:05   1.076 sec              8.0       0.374238   \n",
       "9     2019-11-20 11:58:05   1.152 sec              9.0       0.373544   \n",
       "10    2019-11-20 11:58:05   1.203 sec             10.0       0.372882   \n",
       "\n",
       "    training_logloss  training_auc  training_pr_auc  training_lift  \\\n",
       "0           0.475799      0.500000         0.000000       1.000000   \n",
       "1           0.469160      0.688417         0.317658       2.542461   \n",
       "2           0.463795      0.693838         0.325628       2.828651   \n",
       "3           0.459408      0.696490         0.331776       2.927670   \n",
       "4           0.455633      0.698839         0.338307       3.023147   \n",
       "5           0.452474      0.701430         0.341520       3.073391   \n",
       "6           0.449820      0.702664         0.344766       3.205246   \n",
       "7           0.447543      0.703559         0.347177       3.208085   \n",
       "8           0.445519      0.704480         0.349733       3.277385   \n",
       "9           0.443833      0.705162         0.350933       3.265048   \n",
       "10          0.442284      0.706375         0.353761       3.335117   \n",
       "\n",
       "    training_classification_error  \n",
       "0                        0.817076  \n",
       "1                        0.346614  \n",
       "2                        0.357137  \n",
       "3                        0.326161  \n",
       "4                        0.318165  \n",
       "5                        0.331573  \n",
       "6                        0.324625  \n",
       "7                        0.314598  \n",
       "8                        0.342868  \n",
       "9                        0.336148  \n",
       "10                       0.308324  "
      ]
     },
     "metadata": {},
     "output_type": "display_data"
    },
    {
     "name": "stdout",
     "output_type": "stream",
     "text": [
      "\n",
      "Variable Importances: \n"
     ]
    },
    {
     "data": {
      "text/html": [
       "<div>\n",
       "<style scoped>\n",
       "    .dataframe tbody tr th:only-of-type {\n",
       "        vertical-align: middle;\n",
       "    }\n",
       "\n",
       "    .dataframe tbody tr th {\n",
       "        vertical-align: top;\n",
       "    }\n",
       "\n",
       "    .dataframe thead th {\n",
       "        text-align: right;\n",
       "    }\n",
       "</style>\n",
       "<table border=\"1\" class=\"dataframe\">\n",
       "  <thead>\n",
       "    <tr style=\"text-align: right;\">\n",
       "      <th></th>\n",
       "      <th>variable</th>\n",
       "      <th>relative_importance</th>\n",
       "      <th>scaled_importance</th>\n",
       "      <th>percentage</th>\n",
       "    </tr>\n",
       "  </thead>\n",
       "  <tbody>\n",
       "    <tr>\n",
       "      <td>0</td>\n",
       "      <td>int_rate</td>\n",
       "      <td>4515.744141</td>\n",
       "      <td>1.000000</td>\n",
       "      <td>0.680807</td>\n",
       "    </tr>\n",
       "    <tr>\n",
       "      <td>1</td>\n",
       "      <td>annual_inc</td>\n",
       "      <td>732.340576</td>\n",
       "      <td>0.162175</td>\n",
       "      <td>0.110410</td>\n",
       "    </tr>\n",
       "    <tr>\n",
       "      <td>2</td>\n",
       "      <td>addr_state</td>\n",
       "      <td>382.063232</td>\n",
       "      <td>0.084607</td>\n",
       "      <td>0.057601</td>\n",
       "    </tr>\n",
       "    <tr>\n",
       "      <td>3</td>\n",
       "      <td>term</td>\n",
       "      <td>289.623444</td>\n",
       "      <td>0.064136</td>\n",
       "      <td>0.043665</td>\n",
       "    </tr>\n",
       "    <tr>\n",
       "      <td>4</td>\n",
       "      <td>dti</td>\n",
       "      <td>254.860611</td>\n",
       "      <td>0.056438</td>\n",
       "      <td>0.038424</td>\n",
       "    </tr>\n",
       "    <tr>\n",
       "      <td>5</td>\n",
       "      <td>purpose</td>\n",
       "      <td>167.230453</td>\n",
       "      <td>0.037033</td>\n",
       "      <td>0.025212</td>\n",
       "    </tr>\n",
       "    <tr>\n",
       "      <td>6</td>\n",
       "      <td>loan_amnt</td>\n",
       "      <td>150.780350</td>\n",
       "      <td>0.033390</td>\n",
       "      <td>0.022732</td>\n",
       "    </tr>\n",
       "    <tr>\n",
       "      <td>7</td>\n",
       "      <td>home_ownership</td>\n",
       "      <td>39.730812</td>\n",
       "      <td>0.008798</td>\n",
       "      <td>0.005990</td>\n",
       "    </tr>\n",
       "    <tr>\n",
       "      <td>8</td>\n",
       "      <td>emp_length</td>\n",
       "      <td>36.680832</td>\n",
       "      <td>0.008123</td>\n",
       "      <td>0.005530</td>\n",
       "    </tr>\n",
       "    <tr>\n",
       "      <td>9</td>\n",
       "      <td>revol_util</td>\n",
       "      <td>33.809113</td>\n",
       "      <td>0.007487</td>\n",
       "      <td>0.005097</td>\n",
       "    </tr>\n",
       "    <tr>\n",
       "      <td>10</td>\n",
       "      <td>total_acc</td>\n",
       "      <td>26.889368</td>\n",
       "      <td>0.005955</td>\n",
       "      <td>0.004054</td>\n",
       "    </tr>\n",
       "    <tr>\n",
       "      <td>11</td>\n",
       "      <td>longest_credit_length</td>\n",
       "      <td>3.171561</td>\n",
       "      <td>0.000702</td>\n",
       "      <td>0.000478</td>\n",
       "    </tr>\n",
       "    <tr>\n",
       "      <td>12</td>\n",
       "      <td>delinq_2yrs</td>\n",
       "      <td>0.000000</td>\n",
       "      <td>0.000000</td>\n",
       "      <td>0.000000</td>\n",
       "    </tr>\n",
       "    <tr>\n",
       "      <td>13</td>\n",
       "      <td>verification_status</td>\n",
       "      <td>0.000000</td>\n",
       "      <td>0.000000</td>\n",
       "      <td>0.000000</td>\n",
       "    </tr>\n",
       "  </tbody>\n",
       "</table>\n",
       "</div>"
      ],
      "text/plain": [
       "                 variable  relative_importance  scaled_importance  percentage\n",
       "0                int_rate          4515.744141           1.000000    0.680807\n",
       "1              annual_inc           732.340576           0.162175    0.110410\n",
       "2              addr_state           382.063232           0.084607    0.057601\n",
       "3                    term           289.623444           0.064136    0.043665\n",
       "4                     dti           254.860611           0.056438    0.038424\n",
       "5                 purpose           167.230453           0.037033    0.025212\n",
       "6               loan_amnt           150.780350           0.033390    0.022732\n",
       "7          home_ownership            39.730812           0.008798    0.005990\n",
       "8              emp_length            36.680832           0.008123    0.005530\n",
       "9              revol_util            33.809113           0.007487    0.005097\n",
       "10              total_acc            26.889368           0.005955    0.004054\n",
       "11  longest_credit_length             3.171561           0.000702    0.000478\n",
       "12            delinq_2yrs             0.000000           0.000000    0.000000\n",
       "13    verification_status             0.000000           0.000000    0.000000"
      ]
     },
     "metadata": {},
     "output_type": "display_data"
    },
    {
     "data": {
      "text/plain": []
     },
     "execution_count": 57,
     "metadata": {},
     "output_type": "execute_result"
    }
   ],
   "source": [
    "gbm_model"
   ]
  },
  {
   "cell_type": "code",
   "execution_count": 58,
   "metadata": {},
   "outputs": [
    {
     "name": "stdout",
     "output_type": "stream",
     "text": [
      "gbm prediction progress: |████████████████████████████████████████████████| 100%\n"
     ]
    },
    {
     "data": {
      "text/html": [
       "<table>\n",
       "<thead>\n",
       "<tr><th style=\"text-align: right;\">  predict</th><th style=\"text-align: right;\">  prob_good</th><th style=\"text-align: right;\">  prob_bad</th></tr>\n",
       "</thead>\n",
       "<tbody>\n",
       "<tr><td style=\"text-align: right;\">        0</td><td style=\"text-align: right;\">   0.818239</td><td style=\"text-align: right;\">  0.181761</td></tr>\n",
       "</tbody>\n",
       "</table>"
      ]
     },
     "metadata": {},
     "output_type": "display_data"
    },
    {
     "data": {
      "text/plain": []
     },
     "execution_count": 58,
     "metadata": {},
     "output_type": "execute_result"
    }
   ],
   "source": [
    "# Calculate the prediction for the first row in the test data\n",
    "pred = gbm_model.predict(test[0, :])\n",
    "pred.col_names = [\"predict\", \"prob_good\", \"prob_bad\"]\n",
    "pred"
   ]
  },
  {
   "cell_type": "code",
   "execution_count": 59,
   "metadata": {},
   "outputs": [
    {
     "data": {
      "text/plain": [
       "0.6956454145271594"
      ]
     },
     "execution_count": 59,
     "metadata": {},
     "output_type": "execute_result"
    }
   ],
   "source": [
    "# Calculate the model performance on the test data\n",
    "gbm_model.model_performance(test).auc()"
   ]
  },
  {
   "cell_type": "markdown",
   "metadata": {},
   "source": [
    "# Step 5 (of 6). Examine the GBM Model\n",
    "\n",
    "We will see what variables impact the model prediction."
   ]
  },
  {
   "cell_type": "code",
   "execution_count": 60,
   "metadata": {},
   "outputs": [
    {
     "data": {
      "image/png": "[encoded data removed]",
      "text/plain": [
       "<Figure size 1008x720 with 1 Axes>"
      ]
     },
     "metadata": {
      "needs_background": "light"
     },
     "output_type": "display_data"
    }
   ],
   "source": [
    "gbm_model.varimp_plot()"
   ]
  },
  {
   "cell_type": "markdown",
   "metadata": {},
   "source": [
    "\n",
    "The variable importance plot shows us which variables are most important to predicting `bad_loan`.  We can use partial dependency plots to learn more about how these variables affect the prediction."
   ]
  },
  {
   "cell_type": "code",
   "execution_count": 61,
   "metadata": {},
   "outputs": [
    {
     "name": "stdout",
     "output_type": "stream",
     "text": [
      "PartialDependencePlot progress: |█████████████████████████████████████████| 100%\n",
      "\n",
      "PartialDependence: Partial Dependence Plot of model gbm on column 'int_rate'\n"
     ]
    },
    {
     "data": {
      "text/html": [
       "<div>\n",
       "<style scoped>\n",
       "    .dataframe tbody tr th:only-of-type {\n",
       "        vertical-align: middle;\n",
       "    }\n",
       "\n",
       "    .dataframe tbody tr th {\n",
       "        vertical-align: top;\n",
       "    }\n",
       "\n",
       "    .dataframe thead th {\n",
       "        text-align: right;\n",
       "    }\n",
       "</style>\n",
       "<table border=\"1\" class=\"dataframe\">\n",
       "  <thead>\n",
       "    <tr style=\"text-align: right;\">\n",
       "      <th></th>\n",
       "      <th>int_rate</th>\n",
       "      <th>mean_response</th>\n",
       "      <th>stddev_response</th>\n",
       "      <th>std_error_mean_response</th>\n",
       "    </tr>\n",
       "  </thead>\n",
       "  <tbody>\n",
       "    <tr>\n",
       "      <td>0</td>\n",
       "      <td>5.420000</td>\n",
       "      <td>0.105955</td>\n",
       "      <td>0.015830</td>\n",
       "      <td>0.000045</td>\n",
       "    </tr>\n",
       "    <tr>\n",
       "      <td>1</td>\n",
       "      <td>6.506316</td>\n",
       "      <td>0.105955</td>\n",
       "      <td>0.015830</td>\n",
       "      <td>0.000045</td>\n",
       "    </tr>\n",
       "    <tr>\n",
       "      <td>2</td>\n",
       "      <td>7.592632</td>\n",
       "      <td>0.107784</td>\n",
       "      <td>0.014726</td>\n",
       "      <td>0.000042</td>\n",
       "    </tr>\n",
       "    <tr>\n",
       "      <td>3</td>\n",
       "      <td>8.678947</td>\n",
       "      <td>0.119489</td>\n",
       "      <td>0.019994</td>\n",
       "      <td>0.000057</td>\n",
       "    </tr>\n",
       "    <tr>\n",
       "      <td>4</td>\n",
       "      <td>9.765263</td>\n",
       "      <td>0.139936</td>\n",
       "      <td>0.022275</td>\n",
       "      <td>0.000063</td>\n",
       "    </tr>\n",
       "    <tr>\n",
       "      <td>5</td>\n",
       "      <td>10.851579</td>\n",
       "      <td>0.150096</td>\n",
       "      <td>0.028131</td>\n",
       "      <td>0.000080</td>\n",
       "    </tr>\n",
       "    <tr>\n",
       "      <td>6</td>\n",
       "      <td>11.937895</td>\n",
       "      <td>0.153833</td>\n",
       "      <td>0.029477</td>\n",
       "      <td>0.000084</td>\n",
       "    </tr>\n",
       "    <tr>\n",
       "      <td>7</td>\n",
       "      <td>13.024211</td>\n",
       "      <td>0.164457</td>\n",
       "      <td>0.031680</td>\n",
       "      <td>0.000090</td>\n",
       "    </tr>\n",
       "    <tr>\n",
       "      <td>8</td>\n",
       "      <td>14.110526</td>\n",
       "      <td>0.182426</td>\n",
       "      <td>0.029550</td>\n",
       "      <td>0.000084</td>\n",
       "    </tr>\n",
       "    <tr>\n",
       "      <td>9</td>\n",
       "      <td>15.196842</td>\n",
       "      <td>0.197080</td>\n",
       "      <td>0.031458</td>\n",
       "      <td>0.000090</td>\n",
       "    </tr>\n",
       "    <tr>\n",
       "      <td>10</td>\n",
       "      <td>16.283158</td>\n",
       "      <td>0.220411</td>\n",
       "      <td>0.036240</td>\n",
       "      <td>0.000103</td>\n",
       "    </tr>\n",
       "    <tr>\n",
       "      <td>11</td>\n",
       "      <td>17.369474</td>\n",
       "      <td>0.223501</td>\n",
       "      <td>0.036370</td>\n",
       "      <td>0.000104</td>\n",
       "    </tr>\n",
       "    <tr>\n",
       "      <td>12</td>\n",
       "      <td>18.455789</td>\n",
       "      <td>0.247762</td>\n",
       "      <td>0.037293</td>\n",
       "      <td>0.000106</td>\n",
       "    </tr>\n",
       "    <tr>\n",
       "      <td>13</td>\n",
       "      <td>19.542105</td>\n",
       "      <td>0.247762</td>\n",
       "      <td>0.037293</td>\n",
       "      <td>0.000106</td>\n",
       "    </tr>\n",
       "    <tr>\n",
       "      <td>14</td>\n",
       "      <td>20.628421</td>\n",
       "      <td>0.255442</td>\n",
       "      <td>0.037160</td>\n",
       "      <td>0.000106</td>\n",
       "    </tr>\n",
       "    <tr>\n",
       "      <td>15</td>\n",
       "      <td>21.714737</td>\n",
       "      <td>0.287888</td>\n",
       "      <td>0.038765</td>\n",
       "      <td>0.000111</td>\n",
       "    </tr>\n",
       "    <tr>\n",
       "      <td>16</td>\n",
       "      <td>22.801053</td>\n",
       "      <td>0.288302</td>\n",
       "      <td>0.039505</td>\n",
       "      <td>0.000113</td>\n",
       "    </tr>\n",
       "    <tr>\n",
       "      <td>17</td>\n",
       "      <td>23.887368</td>\n",
       "      <td>0.288845</td>\n",
       "      <td>0.039697</td>\n",
       "      <td>0.000113</td>\n",
       "    </tr>\n",
       "    <tr>\n",
       "      <td>18</td>\n",
       "      <td>24.973684</td>\n",
       "      <td>0.288845</td>\n",
       "      <td>0.039697</td>\n",
       "      <td>0.000113</td>\n",
       "    </tr>\n",
       "    <tr>\n",
       "      <td>19</td>\n",
       "      <td>26.060000</td>\n",
       "      <td>0.288845</td>\n",
       "      <td>0.039697</td>\n",
       "      <td>0.000113</td>\n",
       "    </tr>\n",
       "  </tbody>\n",
       "</table>\n",
       "</div>"
      ],
      "text/plain": [
       "     int_rate  mean_response  stddev_response  std_error_mean_response\n",
       "0    5.420000       0.105955         0.015830                 0.000045\n",
       "1    6.506316       0.105955         0.015830                 0.000045\n",
       "2    7.592632       0.107784         0.014726                 0.000042\n",
       "3    8.678947       0.119489         0.019994                 0.000057\n",
       "4    9.765263       0.139936         0.022275                 0.000063\n",
       "5   10.851579       0.150096         0.028131                 0.000080\n",
       "6   11.937895       0.153833         0.029477                 0.000084\n",
       "7   13.024211       0.164457         0.031680                 0.000090\n",
       "8   14.110526       0.182426         0.029550                 0.000084\n",
       "9   15.196842       0.197080         0.031458                 0.000090\n",
       "10  16.283158       0.220411         0.036240                 0.000103\n",
       "11  17.369474       0.223501         0.036370                 0.000104\n",
       "12  18.455789       0.247762         0.037293                 0.000106\n",
       "13  19.542105       0.247762         0.037293                 0.000106\n",
       "14  20.628421       0.255442         0.037160                 0.000106\n",
       "15  21.714737       0.287888         0.038765                 0.000111\n",
       "16  22.801053       0.288302         0.039505                 0.000113\n",
       "17  23.887368       0.288845         0.039697                 0.000113\n",
       "18  24.973684       0.288845         0.039697                 0.000113\n",
       "19  26.060000       0.288845         0.039697                 0.000113"
      ]
     },
     "metadata": {},
     "output_type": "display_data"
    },
    {
     "data": {
      "text/plain": [
       "[]"
      ]
     },
     "execution_count": 61,
     "metadata": {},
     "output_type": "execute_result"
    },
    {
     "data": {
      "image/png": "[encoded data removed]",
      "text/plain": [
       "<Figure size 504x720 with 1 Axes>"
      ]
     },
     "metadata": {
      "needs_background": "light"
     },
     "output_type": "display_data"
    }
   ],
   "source": [
    "gbm_model.partial_plot(data=train, cols=[\"int_rate\"])"
   ]
  },
  {
   "cell_type": "markdown",
   "metadata": {},
   "source": [
    "# Step 6 : Productionize\n",
    "\n",
    "## Save and reuse model\n",
    "\n",
    "The model can either be embedded into a self-contained Java MOJO package\n",
    "or it can be saved and later loaded directly into an H2O-3 cluster. For production\n",
    "use, we recommend using MOJO as it is optimized for speed. See the [guide](http://docs.h2o.ai/h2o/latest-stable/h2o-docs/productionizing.html) for further information.\n",
    "\n",
    "#### Downloading MOJO\n",
    "\n",
    "Creating and downloading a MOJO is a simple matter of using the `download_mojo` method\n",
    "\n",
    "<img src=\"./images/webpage.png\" style=\"width:600px\">\n",
    "\n",
    "\n",
    "<img src=\"./images/web app 2.png\" style=\"width:600px\">"
   ]
  },
  {
   "cell_type": "code",
   "execution_count": 62,
   "metadata": {},
   "outputs": [
    {
     "data": {
      "text/plain": [
       "'/Users/parulpandey/Desktop/Pyladies Hyd/gbm.zip'"
      ]
     },
     "execution_count": 62,
     "metadata": {},
     "output_type": "execute_result"
    }
   ],
   "source": [
    "gbm_model.download_mojo()"
   ]
  },
  {
   "cell_type": "markdown",
   "metadata": {},
   "source": [
    "### Save and reuse the model \n",
    "\n",
    "We can also save the model to disk for later use."
   ]
  },
  {
   "cell_type": "code",
   "execution_count": 63,
   "metadata": {},
   "outputs": [
    {
     "name": "stdout",
     "output_type": "stream",
     "text": [
      "/Users/parulpandey/Desktop/Pyladies Hyd/gbm\n"
     ]
    }
   ],
   "source": [
    "model_path = h2o.save_model(model=gbm_model, force=True)\n",
    "print(model_path)"
   ]
  },
  {
   "cell_type": "markdown",
   "metadata": {},
   "source": [
    "After the H2O cluster shuts down, all unsaved data and models are lost. At some future date, we can load the model for batch scoring in the H2O cluster."
   ]
  },
  {
   "cell_type": "code",
   "execution_count": 31,
   "metadata": {},
   "outputs": [],
   "source": [
    "loaded_model = h2o.load_model(path=model_path)"
   ]
  },
  {
   "cell_type": "markdown",
   "metadata": {},
   "source": [
    "Using that model, we can also score new data with the predict function:"
   ]
  },
  {
   "cell_type": "code",
   "execution_count": 65,
   "metadata": {},
   "outputs": [
    {
     "name": "stdout",
     "output_type": "stream",
     "text": [
      "gbm prediction progress: |████████████████████████████████████████████████| 100%\n"
     ]
    },
    {
     "data": {
      "text/html": [
       "<table>\n",
       "<thead>\n",
       "<tr><th style=\"text-align: right;\">  predict</th><th style=\"text-align: right;\">      p0</th><th style=\"text-align: right;\">       p1</th></tr>\n",
       "</thead>\n",
       "<tbody>\n",
       "<tr><td style=\"text-align: right;\">        0</td><td style=\"text-align: right;\">0.818239</td><td style=\"text-align: right;\">0.181761 </td></tr>\n",
       "<tr><td style=\"text-align: right;\">        0</td><td style=\"text-align: right;\">0.863957</td><td style=\"text-align: right;\">0.136043 </td></tr>\n",
       "<tr><td style=\"text-align: right;\">        1</td><td style=\"text-align: right;\">0.782018</td><td style=\"text-align: right;\">0.217982 </td></tr>\n",
       "<tr><td style=\"text-align: right;\">        0</td><td style=\"text-align: right;\">0.914073</td><td style=\"text-align: right;\">0.0859267</td></tr>\n",
       "<tr><td style=\"text-align: right;\">        0</td><td style=\"text-align: right;\">0.863957</td><td style=\"text-align: right;\">0.136043 </td></tr>\n",
       "<tr><td style=\"text-align: right;\">        0</td><td style=\"text-align: right;\">0.846427</td><td style=\"text-align: right;\">0.153573 </td></tr>\n",
       "<tr><td style=\"text-align: right;\">        0</td><td style=\"text-align: right;\">0.846427</td><td style=\"text-align: right;\">0.153573 </td></tr>\n",
       "<tr><td style=\"text-align: right;\">        0</td><td style=\"text-align: right;\">0.866308</td><td style=\"text-align: right;\">0.133692 </td></tr>\n",
       "<tr><td style=\"text-align: right;\">        0</td><td style=\"text-align: right;\">0.834004</td><td style=\"text-align: right;\">0.165996 </td></tr>\n",
       "<tr><td style=\"text-align: right;\">        0</td><td style=\"text-align: right;\">0.857971</td><td style=\"text-align: right;\">0.142029 </td></tr>\n",
       "<tr><td style=\"text-align: right;\">        0</td><td style=\"text-align: right;\">0.864273</td><td style=\"text-align: right;\">0.135727 </td></tr>\n",
       "<tr><td style=\"text-align: right;\">        0</td><td style=\"text-align: right;\">0.824816</td><td style=\"text-align: right;\">0.175184 </td></tr>\n",
       "<tr><td style=\"text-align: right;\">        1</td><td style=\"text-align: right;\">0.760331</td><td style=\"text-align: right;\">0.239669 </td></tr>\n",
       "<tr><td style=\"text-align: right;\">        0</td><td style=\"text-align: right;\">0.848873</td><td style=\"text-align: right;\">0.151127 </td></tr>\n",
       "<tr><td style=\"text-align: right;\">        0</td><td style=\"text-align: right;\">0.843245</td><td style=\"text-align: right;\">0.156755 </td></tr>\n",
       "</tbody>\n",
       "</table>"
      ]
     },
     "metadata": {},
     "output_type": "display_data"
    },
    {
     "data": {
      "text/plain": []
     },
     "execution_count": 65,
     "metadata": {},
     "output_type": "execute_result"
    }
   ],
   "source": [
    "bad_loan_hat = loaded_model.predict(test)\n",
    "bad_loan_hat.head(15)"
   ]
  },
  {
   "cell_type": "markdown",
   "metadata": {},
   "source": [
    "# Step 7. Stop the H2O-3 server"
   ]
  },
  {
   "cell_type": "markdown",
   "metadata": {},
   "source": [
    "_Once your work is completed, shutting down the H2O cluster frees up the resources reserved by H2O._"
   ]
  },
  {
   "cell_type": "code",
   "execution_count": 66,
   "metadata": {},
   "outputs": [
    {
     "name": "stdout",
     "output_type": "stream",
     "text": [
      "Are you sure you want to shutdown the H2O instance running at http://localhost:54321 (Y/N)? y\n",
      "H2O session _sid_947e closed.\n"
     ]
    }
   ],
   "source": [
    "h2o.cluster().shutdown(prompt = True)\n"
   ]
  },
  {
   "cell_type": "markdown",
   "metadata": {},
   "source": [
    "# Tutorials\n",
    "https://h2oai.github.io/tutorials/"
   ]
  },
  {
   "cell_type": "code",
   "execution_count": null,
   "metadata": {},
   "outputs": [],
   "source": []
  }
 ],
 "metadata": {
  "kernelspec": {
   "display_name": "Python 3",
   "language": "python",
   "name": "python3"
  },
  "language_info": {
   "codemirror_mode": {
    "name": "ipython",
    "version": 3
   },
   "file_extension": ".py",
   "mimetype": "text/x-python",
   "name": "python",
   "nbconvert_exporter": "python",
   "pygments_lexer": "ipython3",
   "version": "3.7.3"
  }
 },
 "nbformat": 4,
 "nbformat_minor": 2
}
